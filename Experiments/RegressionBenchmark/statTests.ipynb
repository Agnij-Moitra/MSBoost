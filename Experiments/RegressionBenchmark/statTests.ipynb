{
 "cells": [
  {
   "cell_type": "code",
   "execution_count": 4,
   "id": "7c8e91d9-9980-4457-b6e2-d4fdbca7a2c5",
   "metadata": {
    "tags": []
   },
   "outputs": [
    {
     "name": "stdout",
     "output_type": "stream",
     "text": [
      "Classification\n",
      "MSBoost vs. LightGBM: 0.0002402822217455997\n",
      "MSBoost vs. XGBoost: 0.0003250098271165394\n"
     ]
    }
   ],
   "source": [
    "import scipy.stats as stats\n",
    "\n",
    "msb = [0.34, 0.56, 0.40, 0.58, 0.50, 0.54, 0.50, 0.38, 0.37]\n",
    "lgbm = [0.43, 0.69, 0.48, 0.67, 0.57, 0.61, 0.54, 0.40, 0.39]\n",
    "xgb = [0.43, 0.77, 0.50, 0.78, 0.59, 0.65, 0.64, 0.42, 0.40]\n",
    "\n",
    "diff_ml = [a - b for a, b in zip(msb, lgbm)]\n",
    "diff_mx = [a - c for a, c in zip(msb, xgb)]\n",
    "\n",
    "# Perform t-test\n",
    "t_statistic_ml, p_value_ml = stats.ttest_rel(msb, lgbm, alternative='less')\n",
    "t_statistic_mx, p_value_mx = stats.ttest_rel(msb, xgb, alternative='less')\n",
    "\n",
    "print(\"Classification\")\n",
    "print(\"MSBoost vs. LightGBM:\", p_value_ml)\n",
    "print(\"MSBoost vs. XGBoost:\", p_value_mx)"
   ]
  },
  {
   "cell_type": "code",
   "execution_count": 68,
   "id": "dfcb90ff-5514-41fa-a744-30a4ecb4a899",
   "metadata": {
    "tags": []
   },
   "outputs": [
    {
     "name": "stdout",
     "output_type": "stream",
     "text": [
      "Classification Variance\n",
      "MSBoost vs. LightGBM: 0.003376043074974859\n",
      "MSBoost vs. XGBoost: 0.003154477111509541\n"
     ]
    }
   ],
   "source": [
    "import scipy.stats as stats\n",
    "\n",
    "msb = [0.03, 0.04, 0.04, 0.01, 0.02, 0.06, 0.03, 0.03, 0.03]\n",
    "lgbm = [0.07, 0.01, 0.05, 0.08, 0.08, 0.08, 0.06, 0.07, 0.05]\n",
    "xgb = [0.06, 0.011, 0.05, 0.09, 0.07, 0.09, 0.08, 0.06, 0.06]\n",
    "\n",
    "t_statistic_ml, p_value_ml = stats.ttest_rel([i**2 for i in msb], [i**2 for i in lgbm], alternative='less')\n",
    "t_statistic_mx, p_value_mx = stats.ttest_rel([i**2 for i in msb], [i**2 for i in xgb], alternative='less')\n",
    "\n",
    "print(\"Classification Variance\")\n",
    "print(\"MSBoost vs. LightGBM:\", p_value_ml)\n",
    "print(\"MSBoost vs. XGBoost:\", p_value_mx)"
   ]
  },
  {
   "cell_type": "code",
   "execution_count": 70,
   "id": "883164bb-a793-4882-a462-905bb9a0c33f",
   "metadata": {
    "tags": []
   },
   "outputs": [
    {
     "name": "stdout",
     "output_type": "stream",
     "text": [
      "Regression\n",
      "MSBoost vs. LightGBM: 0.016257356804808356\n",
      "MSBoost vs. XGBoost: 0.00013784485900690817\n"
     ]
    }
   ],
   "source": [
    "import numpy as np\n",
    "from sklearn.preprocessing import StandardScaler\n",
    "\n",
    "msb = [31, 0.15, 1e-4, 8, 24, 1e-4, 110, 0.7, 333]\n",
    "lgbm = [57, 0.11, 1.5e-3, 15, 42, 1e-4, 104, 0.9, 433]\n",
    "xgb = [58, 0.22, 1.3e-3, 10, 39, 1e-4, 395, 1.4, 651]\n",
    "\n",
    "# This was normalize because of the large variance in the MSE of the observations\n",
    "data = np.array([msb, lgbm, xgb])\n",
    "scaler = StandardScaler()\n",
    "normalized_data = scaler.fit_transform(data)\n",
    "msb, lgbm, xgb = normalized_data.tolist()\n",
    "\n",
    "# Perform t-test\n",
    "t_statistic_ml, p_value_ml = stats.ttest_rel(msb, lgbm, alternative='less')\n",
    "t_statistic_mx, p_value_mx = stats.ttest_rel(msb, xgb, alternative='less')\n",
    "\n",
    "print(\"Regression\")\n",
    "print(\"MSBoost vs. LightGBM:\", p_value_ml)\n",
    "print(\"MSBoost vs. XGBoost:\", p_value_mx)"
   ]
  },
  {
   "cell_type": "code",
   "execution_count": 58,
   "id": "591d120d-a6bd-470d-ae6f-eb5030e72001",
   "metadata": {
    "tags": []
   },
   "outputs": [
    {
     "name": "stdout",
     "output_type": "stream",
     "text": [
      "Noise\n",
      "MSBoost vs. LightGBM: 0.0057180503845588905\n",
      "MSBoost vs. XGBoost: 0.0036075618185700082\n"
     ]
    }
   ],
   "source": [
    "import scipy.stats as stats\n",
    "\n",
    "msb = [6.9989, 906394.5895, 10.7869, 80.8057, 17.3586, 2.91, 9.03, 18.0074, 39.0569, 25.92, 44.49, 1.73]\n",
    "lgbm = [8.6354, 980273.7075, 10.2374, 96.3665, 22.5633, 2.94, 10.06, 21.2369, 39.6642, 29.86, 42.52, 2.47]\n",
    "xgb = [8.8225, 1062478.7406, 12.8171, 106.4116, 23.0391, 3.38, 11.32, 23.3707, 38.2784, 29.67, 41.81, 2.34]\n",
    "\n",
    "data = np.array([msb, lgbm, xgb])\n",
    "scaler = StandardScaler()\n",
    "normalized_data = scaler.fit_transform(data)\n",
    "msb, lgbm, xgb = normalized_data.tolist()\n",
    "\n",
    "# Perform t-test\n",
    "t_statistic_ml, p_value_ml = stats.ttest_rel(msb, lgbm, alternative='less')\n",
    "t_statistic_mx, p_value_mx = stats.ttest_rel(msb, xgb, alternative='less')\n",
    "\n",
    "print(\"Noise\")\n",
    "print(\"MSBoost vs. LightGBM:\", p_value_ml)\n",
    "print(\"MSBoost vs. XGBoost:\", p_value_mx)"
   ]
  },
  {
   "cell_type": "code",
   "execution_count": 57,
   "id": "c23e044d-42ed-47aa-b867-e02e7a0655a3",
   "metadata": {},
   "outputs": [
    {
     "name": "stdout",
     "output_type": "stream",
     "text": [
      "Num Samples\n",
      "MSBoost vs. LightGBM: 0.007037129077769212\n",
      "MSBoost vs. XGBoost: 0.0002794533281719856\n"
     ]
    }
   ],
   "source": [
    "import scipy.stats as stats\n",
    "\n",
    "msb = [1689.4850, 56882.3830, 6030.1750, 7909.7044, 37032.4543, 109.2543, 16.478, 20088.2682, 15942, 143, 330]\n",
    "lgbm = [1689.8876, 95387.3004, 5553.4012, 8821.4799, 33929.5531, 222.5106, 104.667, 24235.7964, 18120, 675, 2734]\n",
    "xgb = [1768.4008, 109009.4293, 7512.9842, 9897.5915, 38828.4953, 60.0693, 95.2139, 23607.6802, 19393, 760, 384]\n",
    "\n",
    "data = np.array([msb, lgbm, xgb])\n",
    "scaler = StandardScaler()\n",
    "normalized_data = scaler.fit_transform(data)\n",
    "msb, lgbm, xgb = normalized_data.tolist()\n",
    "\n",
    "# Perform t-test\n",
    "t_statistic_ml, p_value_ml = stats.ttest_rel(msb, lgbm, alternative='less')\n",
    "t_statistic_mx, p_value_mx = stats.ttest_rel(msb, xgb, alternative='less')\n",
    "\n",
    "print(\"Num Samples\")\n",
    "print(\"MSBoost vs. LightGBM:\", p_value_ml)\n",
    "print(\"MSBoost vs. XGBoost:\", p_value_mx)"
   ]
  },
  {
   "cell_type": "code",
   "execution_count": 5,
   "id": "38fd1c09-202c-47bd-a829-3a7db7221939",
   "metadata": {},
   "outputs": [
    {
     "name": "stdout",
     "output_type": "stream",
     "text": [
      "Num Samples\n",
      "Bayes vs. Frequency: 0.28529351862084024\n",
      "Bayes vs. Random: 0.06631360970270544\n"
     ]
    }
   ],
   "source": [
    "import scipy.stats as stats\n",
    "import numpy as np\n",
    "from sklearn.preprocessing import StandardScaler\n",
    "\n",
    "msb = [0.0291, 2671.1873, 22.0093, 14.1967, 0.0055, 0.0007, 14.1291, 68.1946, 120.0455, 143, ]\n",
    "lgbm = [0.0340, 2610.7725, 20.4552, 14.2285, 0.0039, 0.0013, 18.1660, 69.6363, 18120, 134.9474,]\n",
    "xgb = [0.0287, 2771.5880, 21.4395, 14.2272, 0.0056, 0.0020, 16.1476, 72.6640, 19393, 131.1989,]\n",
    "\n",
    "data = np.array([msb, lgbm, xgb])\n",
    "scaler = StandardScaler()\n",
    "normalized_data = scaler.fit_transform(data)\n",
    "msb, lgbm, xgb = normalized_data.tolist()\n",
    "\n",
    "# Perform t-test\n",
    "t_statistic_ml, p_value_ml = stats.ttest_rel(msb, lgbm, alternative='less')\n",
    "t_statistic_mx, p_value_mx = stats.ttest_rel(msb, xgb, alternative='less')\n",
    "\n",
    "print(\"Model Selection Methods\")\n",
    "print(\"Bayes vs. Frequency:\", p_value_ml)\n",
    "print(\"Bayes vs. Random:\", p_value_mx)"
   ]
  },
  {
   "cell_type": "code",
   "execution_count": 8,
   "id": "8ea0ba5c-05d6-4580-bc2c-c8710dc44421",
   "metadata": {},
   "outputs": [
    {
     "name": "stdout",
     "output_type": "stream",
     "text": [
      "Model Selection Methods\n",
      "Frequency vs. Bayes: 0.7147064813791597\n",
      "Frequency vs. Random: 0.17052751928276627\n"
     ]
    }
   ],
   "source": [
    "import scipy.stats as stats\n",
    "import numpy as np\n",
    "from sklearn.preprocessing import StandardScaler\n",
    "\n",
    "msb = [0.0291, 2671.1873, 22.0093, 14.1967, 0.0055, 0.0007, 14.1291, 68.1946, 120.0455, 143, ]\n",
    "lgbm = [0.0340, 2610.7725, 20.4552, 14.2285, 0.0039, 0.0013, 18.1660, 69.6363, 18120, 134.9474,]\n",
    "xgb = [0.0287, 2771.5880, 21.4395, 14.2272, 0.0056, 0.0020, 16.1476, 72.6640, 19393, 131.1989,]\n",
    "\n",
    "data = np.array([msb, lgbm, xgb])\n",
    "scaler = StandardScaler()\n",
    "normalized_data = scaler.fit_transform(data)\n",
    "msb, lgbm, xgb = normalized_data.tolist()\n",
    "\n",
    "# Perform t-test\n",
    "t_statistic_ml, p_value_ml = stats.ttest_rel(lgbm, msb, alternative='less')\n",
    "t_statistic_mx, p_value_mx = stats.ttest_rel(lgbm, xgb, alternative='less')\n",
    "\n",
    "print(\"Model Selection Methods\")\n",
    "print(\"Frequency vs. Bayes:\", p_value_ml)\n",
    "print(\"Frequency vs. Random:\", p_value_mx)"
   ]
  },
  {
   "cell_type": "code",
   "execution_count": 9,
   "id": "59e68c3a-a286-4007-a2ab-569e26640e8e",
   "metadata": {},
   "outputs": [
    {
     "name": "stdout",
     "output_type": "stream",
     "text": [
      "Model Selection Methods\n",
      "Random vs. Bayes: 0.8294724807172338\n",
      "Random vs. Frequency: 0.8294724807172338\n"
     ]
    }
   ],
   "source": [
    "import scipy.stats as stats\n",
    "import numpy as np\n",
    "from sklearn.preprocessing import StandardScaler\n",
    "\n",
    "msb = [0.0291, 2671.1873, 22.0093, 14.1967, 0.0055, 0.0007, 14.1291, 68.1946, 120.0455, 143, ]\n",
    "lgbm = [0.0340, 2610.7725, 20.4552, 14.2285, 0.0039, 0.0013, 18.1660, 69.6363, 18120, 134.9474,]\n",
    "xgb = [0.0287, 2771.5880, 21.4395, 14.2272, 0.0056, 0.0020, 16.1476, 72.6640, 19393, 131.1989,]\n",
    "\n",
    "data = np.array([msb, lgbm, xgb])\n",
    "scaler = StandardScaler()\n",
    "normalized_data = scaler.fit_transform(data)\n",
    "msb, lgbm, xgb = normalized_data.tolist()\n",
    "\n",
    "# Perform t-test\n",
    "t_statistic_ml, p_value_ml = stats.ttest_rel(xgb, lgbm, alternative='less')\n",
    "t_statistic_mx, p_value_mx = stats.ttest_rel(xgb, lgbm, alternative='less')\n",
    "\n",
    "print(\"Model Selection Methods\")\n",
    "print(\"Random vs. Bayes:\", p_value_ml)\n",
    "print(\"Random vs. Frequency:\", p_value_mx)"
   ]
  },
  {
   "cell_type": "code",
   "execution_count": null,
   "id": "10bb67bb-a1b8-4705-b431-4846195ba839",
   "metadata": {},
   "outputs": [],
   "source": []
  }
 ],
 "metadata": {
  "kernelspec": {
   "display_name": "Python 3 (ipykernel)",
   "language": "python",
   "name": "python3"
  },
  "language_info": {
   "codemirror_mode": {
    "name": "ipython",
    "version": 3
   },
   "file_extension": ".py",
   "mimetype": "text/x-python",
   "name": "python",
   "nbconvert_exporter": "python",
   "pygments_lexer": "ipython3",
   "version": "3.10.14"
  }
 },
 "nbformat": 4,
 "nbformat_minor": 5
}
